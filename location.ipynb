{
 "cells": [
  {
   "cell_type": "markdown",
   "metadata": {},
   "source": [
    "# Выбор локации для скважины"
   ]
  },
  {
   "cell_type": "markdown",
   "metadata": {},
   "source": [
    "Мы работаем в добывающей компании «ГлавРосГосНефть». Нужно решить, где бурить новую скважину.  \n",
    "\n",
    "Нам предоставлены пробы нефти в трёх регионах: в каждом 10 000 месторождений, где измерили качество нефти и объём её запасов. Нужно построить модель машинного обучения, которая поможет определить регион, где добыча принесёт наибольшую прибыль. Необходимо проанализировать возможную прибыль и риски.  \n",
    "\n",
    "Шаги для выбора локации:  \n",
    "- В избранном регионе ищут месторождения, для каждого определяют значения признаков;  \n",
    "- Строят модель и оценивают объём запасов;  \n",
    "- Выбирают месторождения с самым высокими оценками значений. Количество месторождений зависит от бюджета компании и стоимости разработки одной скважины;  \n",
    "- Прибыль равна суммарной прибыли отобранных месторождений."
   ]
  },
  {
   "cell_type": "code",
   "execution_count": 1,
   "metadata": {},
   "outputs": [],
   "source": [
    "import pandas as pd\n",
    "import numpy as np\n",
    "\n",
    "try:\n",
    "    import matplotlib.pyplot as plt\n",
    "except:\n",
    "    !pip install --upgrade matplotlib==3.8.4\n",
    "    import matplotlib.pyplot as plt\n",
    "\n",
    "try:\n",
    "    import seaborn as sns\n",
    "except:\n",
    "    !pip install --upgrade seaborn==0.13\n",
    "    import seaborn as sns\n",
    "\n",
    "from sklearn.model_selection import train_test_split\n",
    "from sklearn.preprocessing import StandardScaler\n",
    "from sklearn.linear_model import LinearRegression\n",
    "from sklearn.metrics import mean_squared_error\n",
    "\n",
    "import warnings\n",
    "warnings.filterwarnings(\"ignore\", category=FutureWarning)"
   ]
  },
  {
   "cell_type": "markdown",
   "metadata": {},
   "source": [
    "## Загрузка и подготовка данных\n",
    "### Загрузка и предобработка данных"
   ]
  },
  {
   "cell_type": "code",
   "execution_count": 2,
   "metadata": {},
   "outputs": [],
   "source": [
    "# Формула для оптимизации кода вывода первичной информации\n",
    "def information(dataset):\n",
    "    display(dataset.head())\n",
    "    display()\n",
    "    display(dataset.info())"
   ]
  },
  {
   "cell_type": "code",
   "execution_count": 3,
   "metadata": {},
   "outputs": [
    {
     "data": {
      "text/html": [
       "<div>\n",
       "<style scoped>\n",
       "    .dataframe tbody tr th:only-of-type {\n",
       "        vertical-align: middle;\n",
       "    }\n",
       "\n",
       "    .dataframe tbody tr th {\n",
       "        vertical-align: top;\n",
       "    }\n",
       "\n",
       "    .dataframe thead th {\n",
       "        text-align: right;\n",
       "    }\n",
       "</style>\n",
       "<table border=\"1\" class=\"dataframe\">\n",
       "  <thead>\n",
       "    <tr style=\"text-align: right;\">\n",
       "      <th></th>\n",
       "      <th>f0</th>\n",
       "      <th>f1</th>\n",
       "      <th>f2</th>\n",
       "      <th>product</th>\n",
       "    </tr>\n",
       "    <tr>\n",
       "      <th>id</th>\n",
       "      <th></th>\n",
       "      <th></th>\n",
       "      <th></th>\n",
       "      <th></th>\n",
       "    </tr>\n",
       "  </thead>\n",
       "  <tbody>\n",
       "    <tr>\n",
       "      <th>txEyH</th>\n",
       "      <td>0.705745</td>\n",
       "      <td>-0.497823</td>\n",
       "      <td>1.221170</td>\n",
       "      <td>105.280062</td>\n",
       "    </tr>\n",
       "    <tr>\n",
       "      <th>2acmU</th>\n",
       "      <td>1.334711</td>\n",
       "      <td>-0.340164</td>\n",
       "      <td>4.365080</td>\n",
       "      <td>73.037750</td>\n",
       "    </tr>\n",
       "    <tr>\n",
       "      <th>409Wp</th>\n",
       "      <td>1.022732</td>\n",
       "      <td>0.151990</td>\n",
       "      <td>1.419926</td>\n",
       "      <td>85.265647</td>\n",
       "    </tr>\n",
       "    <tr>\n",
       "      <th>iJLyR</th>\n",
       "      <td>-0.032172</td>\n",
       "      <td>0.139033</td>\n",
       "      <td>2.978566</td>\n",
       "      <td>168.620776</td>\n",
       "    </tr>\n",
       "    <tr>\n",
       "      <th>Xdl7t</th>\n",
       "      <td>1.988431</td>\n",
       "      <td>0.155413</td>\n",
       "      <td>4.751769</td>\n",
       "      <td>154.036647</td>\n",
       "    </tr>\n",
       "  </tbody>\n",
       "</table>\n",
       "</div>"
      ],
      "text/plain": [
       "             f0        f1        f2     product\n",
       "id                                             \n",
       "txEyH  0.705745 -0.497823  1.221170  105.280062\n",
       "2acmU  1.334711 -0.340164  4.365080   73.037750\n",
       "409Wp  1.022732  0.151990  1.419926   85.265647\n",
       "iJLyR -0.032172  0.139033  2.978566  168.620776\n",
       "Xdl7t  1.988431  0.155413  4.751769  154.036647"
      ]
     },
     "metadata": {},
     "output_type": "display_data"
    },
    {
     "name": "stdout",
     "output_type": "stream",
     "text": [
      "<class 'pandas.core.frame.DataFrame'>\n",
      "Index: 100000 entries, txEyH to 1CWhH\n",
      "Data columns (total 4 columns):\n",
      " #   Column   Non-Null Count   Dtype  \n",
      "---  ------   --------------   -----  \n",
      " 0   f0       100000 non-null  float64\n",
      " 1   f1       100000 non-null  float64\n",
      " 2   f2       100000 non-null  float64\n",
      " 3   product  100000 non-null  float64\n",
      "dtypes: float64(4)\n",
      "memory usage: 3.8+ MB\n"
     ]
    },
    {
     "data": {
      "text/plain": [
       "None"
      ]
     },
     "metadata": {},
     "output_type": "display_data"
    }
   ],
   "source": [
    "# Загрузим первый датасет, сохраним его как `geo_data_0`, сразу сделаем столбец 'id' индексами\n",
    "try:\n",
    "    geo_data_0 = pd.read_csv('/datasets/geo_data_0.csv', index_col='id')\n",
    "except:\n",
    "    geo_data_0 = pd.read_csv('https://code.s3.yandex.net/datasets/geo_data_0.csv', index_col='id')\n",
    "\n",
    "# Изучим общую информацию о датасете `geo_data_0`\n",
    "information(geo_data_0)"
   ]
  },
  {
   "cell_type": "code",
   "execution_count": 4,
   "metadata": {},
   "outputs": [
    {
     "data": {
      "text/html": [
       "<div>\n",
       "<style scoped>\n",
       "    .dataframe tbody tr th:only-of-type {\n",
       "        vertical-align: middle;\n",
       "    }\n",
       "\n",
       "    .dataframe tbody tr th {\n",
       "        vertical-align: top;\n",
       "    }\n",
       "\n",
       "    .dataframe thead th {\n",
       "        text-align: right;\n",
       "    }\n",
       "</style>\n",
       "<table border=\"1\" class=\"dataframe\">\n",
       "  <thead>\n",
       "    <tr style=\"text-align: right;\">\n",
       "      <th></th>\n",
       "      <th>f0</th>\n",
       "      <th>f1</th>\n",
       "      <th>f2</th>\n",
       "      <th>product</th>\n",
       "    </tr>\n",
       "    <tr>\n",
       "      <th>id</th>\n",
       "      <th></th>\n",
       "      <th></th>\n",
       "      <th></th>\n",
       "      <th></th>\n",
       "    </tr>\n",
       "  </thead>\n",
       "  <tbody>\n",
       "    <tr>\n",
       "      <th>kBEdx</th>\n",
       "      <td>-15.001348</td>\n",
       "      <td>-8.276000</td>\n",
       "      <td>-0.005876</td>\n",
       "      <td>3.179103</td>\n",
       "    </tr>\n",
       "    <tr>\n",
       "      <th>62mP7</th>\n",
       "      <td>14.272088</td>\n",
       "      <td>-3.475083</td>\n",
       "      <td>0.999183</td>\n",
       "      <td>26.953261</td>\n",
       "    </tr>\n",
       "    <tr>\n",
       "      <th>vyE1P</th>\n",
       "      <td>6.263187</td>\n",
       "      <td>-5.948386</td>\n",
       "      <td>5.001160</td>\n",
       "      <td>134.766305</td>\n",
       "    </tr>\n",
       "    <tr>\n",
       "      <th>KcrkZ</th>\n",
       "      <td>-13.081196</td>\n",
       "      <td>-11.506057</td>\n",
       "      <td>4.999415</td>\n",
       "      <td>137.945408</td>\n",
       "    </tr>\n",
       "    <tr>\n",
       "      <th>AHL4O</th>\n",
       "      <td>12.702195</td>\n",
       "      <td>-8.147433</td>\n",
       "      <td>5.004363</td>\n",
       "      <td>134.766305</td>\n",
       "    </tr>\n",
       "  </tbody>\n",
       "</table>\n",
       "</div>"
      ],
      "text/plain": [
       "              f0         f1        f2     product\n",
       "id                                               \n",
       "kBEdx -15.001348  -8.276000 -0.005876    3.179103\n",
       "62mP7  14.272088  -3.475083  0.999183   26.953261\n",
       "vyE1P   6.263187  -5.948386  5.001160  134.766305\n",
       "KcrkZ -13.081196 -11.506057  4.999415  137.945408\n",
       "AHL4O  12.702195  -8.147433  5.004363  134.766305"
      ]
     },
     "metadata": {},
     "output_type": "display_data"
    },
    {
     "name": "stdout",
     "output_type": "stream",
     "text": [
      "<class 'pandas.core.frame.DataFrame'>\n",
      "Index: 100000 entries, kBEdx to relB0\n",
      "Data columns (total 4 columns):\n",
      " #   Column   Non-Null Count   Dtype  \n",
      "---  ------   --------------   -----  \n",
      " 0   f0       100000 non-null  float64\n",
      " 1   f1       100000 non-null  float64\n",
      " 2   f2       100000 non-null  float64\n",
      " 3   product  100000 non-null  float64\n",
      "dtypes: float64(4)\n",
      "memory usage: 3.8+ MB\n"
     ]
    },
    {
     "data": {
      "text/plain": [
       "None"
      ]
     },
     "metadata": {},
     "output_type": "display_data"
    }
   ],
   "source": [
    "# Загрузим второй датасет, сохраним его как `geo_data_1`, сразу сделаем столбец 'id' индексами\n",
    "try:\n",
    "    geo_data_1 = pd.read_csv('/datasets/geo_data_1.csv', index_col='id')\n",
    "except:\n",
    "    geo_data_1 = pd.read_csv('https://code.s3.yandex.net/datasets/geo_data_1.csv', index_col='id')\n",
    "\n",
    "# Изучим общую информацию о датасете `geo_data_1`\n",
    "information(geo_data_1)"
   ]
  },
  {
   "cell_type": "code",
   "execution_count": 5,
   "metadata": {},
   "outputs": [
    {
     "data": {
      "text/html": [
       "<div>\n",
       "<style scoped>\n",
       "    .dataframe tbody tr th:only-of-type {\n",
       "        vertical-align: middle;\n",
       "    }\n",
       "\n",
       "    .dataframe tbody tr th {\n",
       "        vertical-align: top;\n",
       "    }\n",
       "\n",
       "    .dataframe thead th {\n",
       "        text-align: right;\n",
       "    }\n",
       "</style>\n",
       "<table border=\"1\" class=\"dataframe\">\n",
       "  <thead>\n",
       "    <tr style=\"text-align: right;\">\n",
       "      <th></th>\n",
       "      <th>f0</th>\n",
       "      <th>f1</th>\n",
       "      <th>f2</th>\n",
       "      <th>product</th>\n",
       "    </tr>\n",
       "    <tr>\n",
       "      <th>id</th>\n",
       "      <th></th>\n",
       "      <th></th>\n",
       "      <th></th>\n",
       "      <th></th>\n",
       "    </tr>\n",
       "  </thead>\n",
       "  <tbody>\n",
       "    <tr>\n",
       "      <th>fwXo0</th>\n",
       "      <td>-1.146987</td>\n",
       "      <td>0.963328</td>\n",
       "      <td>-0.828965</td>\n",
       "      <td>27.758673</td>\n",
       "    </tr>\n",
       "    <tr>\n",
       "      <th>WJtFt</th>\n",
       "      <td>0.262778</td>\n",
       "      <td>0.269839</td>\n",
       "      <td>-2.530187</td>\n",
       "      <td>56.069697</td>\n",
       "    </tr>\n",
       "    <tr>\n",
       "      <th>ovLUW</th>\n",
       "      <td>0.194587</td>\n",
       "      <td>0.289035</td>\n",
       "      <td>-5.586433</td>\n",
       "      <td>62.871910</td>\n",
       "    </tr>\n",
       "    <tr>\n",
       "      <th>q6cA6</th>\n",
       "      <td>2.236060</td>\n",
       "      <td>-0.553760</td>\n",
       "      <td>0.930038</td>\n",
       "      <td>114.572842</td>\n",
       "    </tr>\n",
       "    <tr>\n",
       "      <th>WPMUX</th>\n",
       "      <td>-0.515993</td>\n",
       "      <td>1.716266</td>\n",
       "      <td>5.899011</td>\n",
       "      <td>149.600746</td>\n",
       "    </tr>\n",
       "  </tbody>\n",
       "</table>\n",
       "</div>"
      ],
      "text/plain": [
       "             f0        f1        f2     product\n",
       "id                                             \n",
       "fwXo0 -1.146987  0.963328 -0.828965   27.758673\n",
       "WJtFt  0.262778  0.269839 -2.530187   56.069697\n",
       "ovLUW  0.194587  0.289035 -5.586433   62.871910\n",
       "q6cA6  2.236060 -0.553760  0.930038  114.572842\n",
       "WPMUX -0.515993  1.716266  5.899011  149.600746"
      ]
     },
     "metadata": {},
     "output_type": "display_data"
    },
    {
     "name": "stdout",
     "output_type": "stream",
     "text": [
      "<class 'pandas.core.frame.DataFrame'>\n",
      "Index: 100000 entries, fwXo0 to V9kWn\n",
      "Data columns (total 4 columns):\n",
      " #   Column   Non-Null Count   Dtype  \n",
      "---  ------   --------------   -----  \n",
      " 0   f0       100000 non-null  float64\n",
      " 1   f1       100000 non-null  float64\n",
      " 2   f2       100000 non-null  float64\n",
      " 3   product  100000 non-null  float64\n",
      "dtypes: float64(4)\n",
      "memory usage: 3.8+ MB\n"
     ]
    },
    {
     "data": {
      "text/plain": [
       "None"
      ]
     },
     "metadata": {},
     "output_type": "display_data"
    }
   ],
   "source": [
    "# Загрузим третий датасет, сохраним его как `geo_data_2`, сразу сделаем столбец 'id' индексами\n",
    "try:\n",
    "    geo_data_2 = pd.read_csv('/datasets/geo_data_2.csv', index_col='id')\n",
    "except:\n",
    "    geo_data_2 = pd.read_csv('https://code.s3.yandex.net/datasets/geo_data_2.csv', index_col='id')\n",
    "\n",
    "# Изучим общую информацию о датасете `geo_data_2`\n",
    "information(geo_data_2)"
   ]
  },
  {
   "cell_type": "markdown",
   "metadata": {},
   "source": [
    "Данные загружены. Названия колонок корректные. Типы данных `float64`. Пропуски, по общей информации, отсутствуют. В каждом датафрейме 4 столбца и 100000 строк с данными. Проверим данные на наличие пропусков и явных дубликатов."
   ]
  },
  {
   "cell_type": "code",
   "execution_count": 6,
   "metadata": {},
   "outputs": [
    {
     "name": "stdout",
     "output_type": "stream",
     "text": [
      "Название датафрейма: geo_data_0\n",
      "\n",
      "Количество пропусков\n",
      "f0         0\n",
      "f1         0\n",
      "f2         0\n",
      "product    0\n",
      "dtype: int64\n",
      "\n",
      "Количество дубликатов 0\n",
      "\n",
      "----------------------------------------\n",
      "Название датафрейма: geo_data_1\n",
      "\n",
      "Количество пропусков\n",
      "f0         0\n",
      "f1         0\n",
      "f2         0\n",
      "product    0\n",
      "dtype: int64\n",
      "\n",
      "Количество дубликатов 0\n",
      "\n",
      "----------------------------------------\n",
      "Название датафрейма: geo_data_2\n",
      "\n",
      "Количество пропусков\n",
      "f0         0\n",
      "f1         0\n",
      "f2         0\n",
      "product    0\n",
      "dtype: int64\n",
      "\n",
      "Количество дубликатов 0\n",
      "\n",
      "----------------------------------------\n"
     ]
    }
   ],
   "source": [
    "# Создаём словарь датафреймов `dfs`\n",
    "dfs = {\n",
    "    'geo_data_0': geo_data_0,\n",
    "    'geo_data_1': geo_data_1,\n",
    "    'geo_data_2': geo_data_2\n",
    "}\n",
    "\n",
    "# Создаём цикл для проверки на наличие пропусков и явных дубликатов в датафреймах из словаря `dfs`\n",
    "for name, df in dfs.items():\n",
    "    print(f'Название датафрейма: {name}\\n')\n",
    "    print(f'Количество пропусков\\n{df.isna().sum()}\\n')\n",
    "    print(f'Количество дубликатов {df.duplicated().sum()}\\n')\n",
    "    print('-' * 40)"
   ]
  },
  {
   "cell_type": "markdown",
   "metadata": {},
   "source": [
    "Пропусков и явных дубликатов нет. Категориальных столбцов нет, в данных имеются только числовые значения, поэтому на неявные дубликаты проверку не проводим. Что означают характеристики `f0`, `f1`, `f2`, нам неизвестно. Изучим распределение объёма запасов в скважине в каждом регионе."
   ]
  },
  {
   "cell_type": "markdown",
   "metadata": {},
   "source": [
    "### Исследовательский анализ данных"
   ]
  },
  {
   "cell_type": "code",
   "execution_count": 7,
   "metadata": {},
   "outputs": [],
   "source": [
    "# Напишем функцию для построения графиков распределения объёма запасов в скважине\n",
    "# функция принимает в качестве агрументов датасет и название графика\n",
    "def graphics(geo_data, feature_title):\n",
    "    # задаём схему графика\n",
    "    fig, axes = plt.subplots(nrows=1, ncols=2, figsize=(14, 6))\n",
    "    fig.suptitle(feature_title)\n",
    "    # строим гистограмму распределения\n",
    "    sns.histplot(data=geo_data, x='product', bins=20, ax=axes[0])\n",
    "    axes[0].set_title('Гистограмма распределения')\n",
    "    # строим 'ящик с усами'\n",
    "    sns.boxplot(data=geo_data,  y='product', ax=axes[1])\n",
    "    axes[1].set_title('Разброс значений признаков')\n",
    "    plt.show()\n",
    "    # выводим численное описание данных\n",
    "    print('Описание данных')\n",
    "    print(df.describe().round(2))"
   ]
  },
  {
   "cell_type": "code",
   "execution_count": 8,
   "metadata": {},
   "outputs": [
    {
     "data": {
      "image/png": "[encoded data removed]",
      "text/plain": [
       "<Figure size 1400x600 with 2 Axes>"
      ]
     },
     "metadata": {},
     "output_type": "display_data"
    },
    {
     "name": "stdout",
     "output_type": "stream",
     "text": [
      "Описание данных\n",
      "              f0         f1         f2    product\n",
      "count  100000.00  100000.00  100000.00  100000.00\n",
      "mean        0.50       0.25       2.50      92.50\n",
      "std         0.87       0.50       3.25      44.29\n",
      "min        -1.41      -0.85     -12.09       0.00\n",
      "25%        -0.07      -0.20       0.29      56.50\n",
      "50%         0.50       0.25       2.52      91.85\n",
      "75%         1.07       0.70       4.72     128.56\n",
      "max         2.36       1.34      16.00     185.36\n"
     ]
    },
    {
     "data": {
      "image/png": "[encoded data removed]",
      "text/plain": [
       "<Figure size 1400x600 with 2 Axes>"
      ]
     },
     "metadata": {},
     "output_type": "display_data"
    },
    {
     "name": "stdout",
     "output_type": "stream",
     "text": [
      "Описание данных\n",
      "              f0         f1         f2    product\n",
      "count  100000.00  100000.00  100000.00  100000.00\n",
      "mean        1.14      -4.80       2.49      68.83\n",
      "std         8.97       5.12       1.70      45.94\n",
      "min       -31.61     -26.36      -0.02       0.00\n",
      "25%        -6.30      -8.27       1.00      26.95\n",
      "50%         1.15      -4.81       2.01      57.09\n",
      "75%         8.62      -1.33       4.00     107.81\n",
      "max        29.42      18.73       5.02     137.95\n"
     ]
    },
    {
     "data": {
      "image/png": "[encoded data removed]",
      "text/plain": [
       "<Figure size 1400x600 with 2 Axes>"
      ]
     },
     "metadata": {},
     "output_type": "display_data"
    },
    {
     "name": "stdout",
     "output_type": "stream",
     "text": [
      "Описание данных\n",
      "              f0         f1         f2    product\n",
      "count  100000.00  100000.00  100000.00  100000.00\n",
      "mean        0.00      -0.00       2.50      95.00\n",
      "std         1.73       1.73       3.47      44.75\n",
      "min        -8.76      -7.08     -11.97       0.00\n",
      "25%        -1.16      -1.17       0.13      59.45\n",
      "50%         0.01      -0.01       2.48      94.93\n",
      "75%         1.16       1.16       4.86     130.60\n",
      "max         7.24       7.84      16.74     190.03\n"
     ]
    }
   ],
   "source": [
    "# Создаём цикл для построения графиков распределения объёма запасов по датасетам из словаря `dfs`\n",
    "for name, df in dfs.items():\n",
    "    graphics(df, name)"
   ]
  },
  {
   "cell_type": "markdown",
   "metadata": {},
   "source": [
    "Распределение скважин по объёму запасов в первом и третьем регионе похожее: медианное значение запасов 92-95 тыс. баррелей, половина скважин имеет запасы примерно от 56-59 до 128-130 тыс. баррелей, внешне распределение выглядит похожим на нормальное. Но во втором регионе распределение сильно отличается: медианное значение около 57 тыс. баррелей, половина скважин имеет запасы от 27 до 108 тыс. баррелей. Однако в этом регионе очень много скважин с близкими к нулю запасами и очень много скважин с высоким - около 130-140 тыс. баррелей. По внешнему виду \"ящика с усами\" можно сказать, что вариация объёма запасов во втором регионе самая большая (\"ящик с усами\" самый большой). Характеристики других признаков также сильно отличаются именно во втором регионе."
   ]
  },
  {
   "cell_type": "code",
   "execution_count": 9,
   "metadata": {},
   "outputs": [
    {
     "data": {
      "image/png": "[encoded data removed]",
      "text/plain": [
       "<Figure size 640x480 with 2 Axes>"
      ]
     },
     "metadata": {},
     "output_type": "display_data"
    },
    {
     "data": {
      "image/png": "[encoded data removed]",
      "text/plain": [
       "<Figure size 640x480 with 2 Axes>"
      ]
     },
     "metadata": {},
     "output_type": "display_data"
    },
    {
     "data": {
      "image/png": "[encoded data removed]",
      "text/plain": [
       "<Figure size 640x480 with 2 Axes>"
      ]
     },
     "metadata": {},
     "output_type": "display_data"
    }
   ],
   "source": [
    "# Построим тепловые карты для каждого датафрейма (распределение признаков отличное от нормального,\n",
    "# поэтому используем коэффициент корреляции Спирмена)\n",
    "for name, df in dfs.items():\n",
    "    sns.heatmap(df.corr(method='spearman'), cmap='coolwarm', annot=True, fmt='.2f')\n",
    "    plt.title(name)\n",
    "    plt.show()"
   ]
  },
  {
   "cell_type": "markdown",
   "metadata": {},
   "source": [
    "Тепловые карты показывают, что во втором регионе зависимость между признаками `f2` (входной) и `product` (этот признак принимаем за целевой) очень сильная (коэффициент корреляции Спирмена равен 0,98). Это означает, что линейная регрессия должна сработать хорошо. В первом и третьем регионах один входной признак имеет взаимосвязь средней силы с целевым признаком. В третьем регионе два признака показывают абсолютное отсутствие взаимосвязи с целевым признаком, что неблагоприятно для модели линейной регрессии."
   ]
  },
  {
   "cell_type": "markdown",
   "metadata": {},
   "source": [
    "В данном проекте исследуются три региона. Мы будем обучать и использовать одну модель. Поэтому мы не используем пайплайны, а напишем функцию, которая будет применяться к данным по каждому региону.  \n",
    "Целевой признак - объём запасов сырья. Входные признаки - `f0`, `f1`, `f2`. Признаки количественные, их нужно будет масштабировать. Категориальные признаки отсутствуют.  \n",
    "Прежде всего, разделим данные на входные и целевой, а также на тренировочную и валидационную выборки. А затем выполним масштабирование. Это нужно сделать по каждому региону."
   ]
  },
  {
   "cell_type": "markdown",
   "metadata": {},
   "source": [
    "**Вывод.** Данные загружены, столбец `id` сразу переведён в индексы. Названия столбцов корректные. Проверка на пропуски и явные дубликаты проведена. Проверка не неявные дубликаты не проводилась, так как категориальные столбцы в данных отсутствуют. Данные только количественные. Распределение признаков `f0`, `f1`, `f2` не изучалось, так как неизвестно, что означают эти признаки. Распределение признака `produkt` изучено, во втором регионе оно сильно отличается от распределения в первом и третьем регионах: во втором регионе медианное значение объема запасов меньше, чем в двух других, но там значительно больше скважин как с почти нулевыми запасами, так и с очень большими объёмами запасов.  \n",
    "Исходные данные будут разделены на входные и целевой признаки, а также на тренировочную и валидационную выборки. Все данные будут масштабированы. Это будет сделано при помощи одной функции перед обучением и проверкой модели."
   ]
  },
  {
   "cell_type": "markdown",
   "metadata": {},
   "source": [
    "## Обучение и проверка модели\n",
    "По условию для обучения модели подходит только линейная регрессия (остальные - недостаточно предсказуемые). Напишем функцию для разделения и масштабирования исходных данных и обучения модели."
   ]
  },
  {
   "cell_type": "code",
   "execution_count": 10,
   "metadata": {},
   "outputs": [],
   "source": [
    "# Зададим константы\n",
    "RANDOM_STATE = 42\n",
    "TEST_SIZE = 0.25\n",
    "\n",
    "# Напишем функцию для подготовки данных\n",
    "def learning_linear_model(df):\n",
    "    \n",
    "    # разделение на тренировочную и тестовую выборки\n",
    "    X_train, X_valid, y_train, y_valid = train_test_split(\n",
    "        df.drop('product', axis=1),\n",
    "        df['product'],\n",
    "        test_size=TEST_SIZE,\n",
    "        random_state=RANDOM_STATE\n",
    "    )\n",
    "    \n",
    "    # масштабирование количественных признаков тренировочной и валидационной выборок\n",
    "    scaler = StandardScaler()\n",
    "    X_train_scaled = scaler.fit_transform(X_train)\n",
    "    X_valid_scaled = scaler.transform(X_valid)\n",
    "    \n",
    "    # создание датафреймов из масштабированных данных\n",
    "    X_train_scaled = pd.DataFrame(X_train_scaled, columns=X_train.columns)\n",
    "    X_valid_scaled = pd.DataFrame(X_valid_scaled, columns=X_valid.columns)\n",
    "    \n",
    "    # инициализация и обучение модели\n",
    "    model_lr = LinearRegression()\n",
    "    model_lr.fit(X_train_scaled, y_train)\n",
    "    \n",
    "    # предсказанные значения для X_valid\n",
    "    y_pred = model_lr.predict(X_valid_scaled)\n",
    "    \n",
    "    # оценим качество модели на валидационной выборке,\n",
    "    # рассчитаем коэффициент RMSE для линейной регрессии\n",
    "    rmse = round(mean_squared_error(\n",
    "        y_valid,\n",
    "        y_pred,\n",
    "        squared=False\n",
    "    ), 3)\n",
    "    \n",
    "    # Создаём таблицу с прогнозом объёмов запасов и настоящими значениями объёмов запасов\n",
    "    pred_geo_data = pd.DataFrame(zip(y_pred, y_valid), columns=['y_pred', 'y_true'])\n",
    "    \n",
    "    y_pred_mean = round(pred_geo_data['y_pred'].mean(), 2)\n",
    "                                \n",
    "    # функция возвращает целевой признак реальный, предсказанный, значение метрики `rmse`,\n",
    "    # таблицу с предсказаниями и настоящими значениями, средний запас предсказанного сырья\n",
    "    return y_valid, y_pred, rmse, pred_geo_data, y_pred_mean"
   ]
  },
  {
   "cell_type": "code",
   "execution_count": 11,
   "metadata": {},
   "outputs": [
    {
     "name": "stdout",
     "output_type": "stream",
     "text": [
      "Прогноз объёмов запасов и настоящие значения в первом регионе\n",
      "       y_pred      y_true\n",
      "0  101.901017  122.073350\n",
      "1   78.217774   48.738540\n",
      "2  115.266901  131.338088\n",
      "3  105.618618   88.327757\n",
      "4   97.980185   36.959266\n",
      "Средний запас предсказанного сырья в первом регионе: 92.4\n",
      "RSME модели для первого региона: 37.757\n",
      "----------------------------------------\n",
      "Прогноз объёмов запасов и настоящие значения во втором регионе\n",
      "       y_pred      y_true\n",
      "0    0.844738    0.000000\n",
      "1   52.921612   53.906522\n",
      "2  135.110385  134.766305\n",
      "3  109.494863  107.813044\n",
      "4   -0.047292    0.000000\n",
      "Средний запас предсказанного сырья во втором регионе: 68.71\n",
      "RSME модели для второго региона: 0.89\n",
      "----------------------------------------\n",
      "Прогноз объёмов запасов и настоящие значения в третьем регионе\n",
      "       y_pred      y_true\n",
      "0   98.301916  117.441301\n",
      "1  101.592461   47.841249\n",
      "2   52.449099   45.883483\n",
      "3  109.922127  139.014608\n",
      "4   72.411847   84.004276\n",
      "Средний запас предсказанного сырья в третьем регионе: 94.77\n",
      "RSME модели для третьего региона: 40.146\n"
     ]
    }
   ],
   "source": [
    "# Применим функцию к первому региону\n",
    "y_valid_0, y_pred_0, rmse_0, pred_geo_data_0, y_pred_mean_0 = learning_linear_model(geo_data_0)\n",
    "print('Прогноз объёмов запасов и настоящие значения в первом регионе')\n",
    "print(pred_geo_data_0.head())\n",
    "print(f'Средний запас предсказанного сырья в первом регионе: {y_pred_mean_0}')\n",
    "print(f'RSME модели для первого региона: {rmse_0}')\n",
    "print('-' * 40)\n",
    "\n",
    "# Применим функцию ко второму региону\n",
    "y_valid_1, y_pred_1, rmse_1, pred_geo_data_1, y_pred_mean_1 = learning_linear_model(geo_data_1)\n",
    "print('Прогноз объёмов запасов и настоящие значения во втором регионе')\n",
    "print(pred_geo_data_1.head())\n",
    "print(f'Средний запас предсказанного сырья во втором регионе: {y_pred_mean_1}')\n",
    "print(f'RSME модели для второго региона: {rmse_1}')\n",
    "print('-' * 40)\n",
    "\n",
    "# Применим функцию к третьему региону\n",
    "y_valid_2, y_pred_2, rmse_2, pred_geo_data_2, y_pred_mean_2 = learning_linear_model(geo_data_2)\n",
    "print('Прогноз объёмов запасов и настоящие значения в третьем регионе')\n",
    "print(pred_geo_data_2.head())\n",
    "print(f'Средний запас предсказанного сырья в третьем регионе: {y_pred_mean_2}')\n",
    "print(f'RSME модели для третьего региона: {rmse_2}')"
   ]
  },
  {
   "cell_type": "markdown",
   "metadata": {},
   "source": [
    "**Вывод.** Самый точный прогноз модель линейной регрессии дала по второму региону: модель ошибается в среднем всего на 0,89 тыс. баррелей. Средний запас предсказанного сырья составил 68,7 тыс. баррелей. В первом и третьем регионах RSME (средняя ошибка модели) составил 37,8 и 40,1 тыс. баррелей соответственно, а средний запас предсказанного сырья составил 92,4 и 94,8 тыс. баррелей соответственно. Итак, во втором регионе запасы предсказаны в среднем по объёму меньше, но точнее."
   ]
  },
  {
   "cell_type": "markdown",
   "metadata": {},
   "source": [
    "## Подготовка к расчёту прибыли\n",
    "Все ключевые значения для расчётов сохраним в отдельных переменных."
   ]
  },
  {
   "cell_type": "code",
   "execution_count": 12,
   "metadata": {},
   "outputs": [],
   "source": [
    "# Общее число имеющихся в регионе точек\n",
    "POINTS_TOTAL = 100000\n",
    "\n",
    "# Общее число точек при разведке региона\n",
    "NUMBER_POINTS = 500\n",
    "\n",
    "# Число лучших для разработки точек в регионе\n",
    "NUMBER_POINTS_BEST = 200\n",
    "\n",
    "# Бюджет на разработку скважин в регионе, тыс. руб.\n",
    "BUDGET_TOTAL = 10000000\n",
    "\n",
    "# Доход с каждой единицы продукта (с 1 тыс. баррелей), тыс. руб.\n",
    "INCOME = 450\n",
    "\n",
    "# Порог вероятности убытков\n",
    "T = 0.025"
   ]
  },
  {
   "cell_type": "markdown",
   "metadata": {},
   "source": [
    "Рассчитаем достаточный объём сырья для безубыточной разработки новой скважины. Для этого бюджет на разработку одной скважины должен быть равен доходу с одной скважины."
   ]
  },
  {
   "cell_type": "code",
   "execution_count": 13,
   "metadata": {},
   "outputs": [
    {
     "name": "stdout",
     "output_type": "stream",
     "text": [
      "Достаточный объём сырья для безубыточной разработки новой скважины: 111.11 тыс. баррелей\n"
     ]
    }
   ],
   "source": [
    "# Бюджет на разработку одной скважины\n",
    "budget = BUDGET_TOTAL / NUMBER_POINTS_BEST\n",
    "\n",
    "# Необходимый объём сырья для безубыточной разработки скважины\n",
    "product_breakeven = budget / INCOME\n",
    "\n",
    "print(f'Достаточный объём сырья для безубыточной разработки новой скважины: {round(product_breakeven, 2)} тыс. баррелей')"
   ]
  },
  {
   "cell_type": "code",
   "execution_count": 14,
   "metadata": {},
   "outputs": [
    {
     "name": "stdout",
     "output_type": "stream",
     "text": [
      "Предсказанный средний объём сырья в каждой скважине в трёх регионах: [92.4, 68.71, 94.77]\n"
     ]
    }
   ],
   "source": [
    "# Создадим список с предсказанным средним запасом сырья в каждом регионе\n",
    "predictions_mean = [y_pred_mean_0.round(2), y_pred_mean_1.round(2), y_pred_mean_2.round(2)]\n",
    "\n",
    "print(f'Предсказанный средний объём сырья в каждой скважине в трёх регионах: {predictions_mean}')"
   ]
  },
  {
   "cell_type": "code",
   "execution_count": 15,
   "metadata": {},
   "outputs": [
    {
     "data": {
      "image/png": "[encoded data removed]",
      "text/plain": [
       "<Figure size 800x600 with 1 Axes>"
      ]
     },
     "metadata": {},
     "output_type": "display_data"
    }
   ],
   "source": [
    "# Изобразим графически предсказанный средний объём сырья в трёх регионах,\n",
    "# отметим линией достаточный объём сырья для безубыточной разработки новой скважины\n",
    "pred = pd.Series(predictions_mean)\n",
    "\n",
    "fig = plt.figure(figsize=(8, 6))\n",
    "pred.plot(kind='bar', label='предсказанный объём')\n",
    "plt.title('Предсказанный средний объём сырья в скважине по регионам', fontsize=14)\n",
    "plt.xlabel('Регионы')\n",
    "plt.ylabel('Объём сырья, тыс. баррелей')\n",
    "plt.xticks(rotation='horizontal')\n",
    "plt.axhline(product_breakeven, 0, 2.5, linestyle='-', color=\"r\", label='линия безубыточности')\n",
    "plt.legend(loc='lower right')\n",
    "plt.grid()\n",
    "plt.show()"
   ]
  },
  {
   "cell_type": "markdown",
   "metadata": {},
   "source": [
    "**Вывод.** Средний предсказанный объём сырья в одной скважине во всех трёх регионах меньше достаточного объёма сырья для безубыточной разработки новой скважины. Очевидно, что все скважины подряд в регионах разрабатывать нерентабельно. Необходимо выбрать скважины с максимальными значениями предсказаний, просуммировать целевое значение объёма сырья, соответствующее этим предсказаниям и рассчитать прибыль для полученного объёма сырья. Это нужно выполнить для каждого из трёх регионов по отдельности."
   ]
  },
  {
   "cell_type": "markdown",
   "metadata": {},
   "source": [
    "## Расчёт прибыли и рисков"
   ]
  },
  {
   "cell_type": "code",
   "execution_count": 16,
   "metadata": {},
   "outputs": [],
   "source": [
    "# Создадим переменные `target` и `pred` для каждого региона\n",
    "target_0 = pred_geo_data_0['y_true']\n",
    "pred_0 = pred_geo_data_0['y_pred']\n",
    "target_1 = pred_geo_data_1['y_true']\n",
    "pred_1 = pred_geo_data_1['y_pred']\n",
    "target_2 = pred_geo_data_2['y_true']\n",
    "pred_2 = pred_geo_data_2['y_pred']"
   ]
  },
  {
   "cell_type": "code",
   "execution_count": 17,
   "metadata": {},
   "outputs": [
    {
     "name": "stdout",
     "output_type": "stream",
     "text": [
      "Общая прибыль от 500 точек в первом регионе: 22555560 тыс. руб.\n",
      "Общая прибыль от 500 точек во втором регионе: 21037717 тыс. руб.\n",
      "Общая прибыль от 500 точек в третьем регионе: 20868210 тыс. руб.\n"
     ]
    }
   ],
   "source": [
    "# Напишем функцию для определения прибыли по выбранным скважинам и предсказаниям модели\n",
    "\n",
    "# функции будем передавать истинные значения запасов, предсказания запасов и количество скважин\n",
    "def profit(target, pred, count):\n",
    "    \n",
    "    # сортируем предсказанные значения в порядке убывания\n",
    "    pred_sorted = pred.sort_values(ascending=False)\n",
    "    \n",
    "    # выбираем настоящие значения запасов в заданном количестве скважин с лучшими предсказаниями\n",
    "    selected = target[pred_sorted.index][:count]\n",
    "    \n",
    "    # считаем общий доход в этих отобранных точках\n",
    "    income_total = INCOME * selected.sum()\n",
    "    \n",
    "    # считаем общую прибыль: доход минус себестоимость\n",
    "    revenue_total = income_total - BUDGET_TOTAL\n",
    "    \n",
    "    # функция возвращает общую прибыль от разработки выбранных скважин в регионе\n",
    "    return revenue_total\n",
    "\n",
    "# Выбираем по 500 скважин с лучшими предсказаниями в каждом регионе, применяем функцию\n",
    "print(f'Общая прибыль от 500 точек в первом регионе: {round(profit(target_0, pred_0, NUMBER_POINTS))} тыс. руб.')\n",
    "print(f'Общая прибыль от 500 точек во втором регионе: {round(profit(target_1, pred_1, NUMBER_POINTS))} тыс. руб.')\n",
    "print(f'Общая прибыль от 500 точек в третьем регионе: {round(profit(target_2, pred_2, NUMBER_POINTS))} тыс. руб.')"
   ]
  },
  {
   "cell_type": "markdown",
   "metadata": {},
   "source": [
    "Мы не можем сказать, что наблюдения описываются нормальным законом, поэтому для проверки гипотез не применяем ttest.  \n",
    "Будем использовать технику Bootstrap.  \n",
    "Доверительный интервал по условию должен быть 95 %, то есть вероятность рассчитанного среднего уровня прибыли должна быть 95 %. Поэтому нужно найти 0,025 и 0,975 квантили."
   ]
  },
  {
   "cell_type": "code",
   "execution_count": 18,
   "metadata": {},
   "outputs": [],
   "source": [
    "# Создаём функцию для расчёта прибыли и рисков с применением бутстрепа\n",
    "def calc_profit_risk(target, pred):\n",
    "    \n",
    "    # задаём константу\n",
    "    STATE = np.random.RandomState(12345)\n",
    "    \n",
    "    # создаём переменную для списка оценок прибыли из бутстрепа\n",
    "    values = []\n",
    "    \n",
    "    # выполним процедуру Bootstrap с 1000 повторений\n",
    "    for i in range(1000):\n",
    "        target_subsample = target.sample(NUMBER_POINTS, replace=True, random_state=STATE)\n",
    "        pred_subsample = pred[target_subsample.index]\n",
    "        values.append(profit(target_subsample, pred_subsample, NUMBER_POINTS_BEST))\n",
    "        \n",
    "    # поменяем формат списка на Series\n",
    "    values = pd.Series(values)\n",
    "    \n",
    "    # рассчитаем среднюю прибыль, риск убытков и доверительный интервал\n",
    "    mean_profits = round(values.mean(), 1)\n",
    "    risk_loss = round((values < 0).mean() * 100, 1)\n",
    "    conf_interval = [round(values.quantile(0.025), 1), round(values.quantile(0.975), 1)]\n",
    "    \n",
    "    # функция возвращает оценки прибыли из бутстрепа, среднюю прибыль, риск убытков и доверительный интервал\n",
    "    return values, mean_profits, risk_loss, conf_interval"
   ]
  },
  {
   "cell_type": "code",
   "execution_count": 19,
   "metadata": {},
   "outputs": [],
   "source": [
    "# Применим функцию к трём регионам\n",
    "values_0, mean_profits_0, risk_loss_0, conf_interval_0 = calc_profit_risk(target_0, pred_0)\n",
    "values_1, mean_profits_1, risk_loss_1, conf_interval_1 = calc_profit_risk(target_1, pred_1)\n",
    "values_2, mean_profits_2, risk_loss_2, conf_interval_2 = calc_profit_risk(target_2, pred_2)"
   ]
  },
  {
   "cell_type": "code",
   "execution_count": 20,
   "metadata": {},
   "outputs": [
    {
     "data": {
      "image/png": "[encoded data removed]",
      "text/plain": [
       "<Figure size 1400x600 with 2 Axes>"
      ]
     },
     "metadata": {},
     "output_type": "display_data"
    }
   ],
   "source": [
    "# Построим графики распределения скважин по размеру прибыли в регионах\n",
    "# создаём датафрейм из оценок прибыли по трём регионам\n",
    "values_total = pd.DataFrame(zip(values_0, \n",
    "                                values_1, \n",
    "                                values_2), columns=[\n",
    "    'первый_регион',\n",
    "    'второй_регион', \n",
    "    'третий регион'])\n",
    "# задаём общий вид графиков\n",
    "fig, axes = plt.subplots(nrows=1, ncols=2, figsize=(14, 6))\n",
    "fig.suptitle('Распределение скважин по размеру прибыли')\n",
    "# строим гистограммы распределения\n",
    "values_total.plot(kind='hist', histtype='step', linewidth=5, legend=True, ax=axes[0])\n",
    "axes[0].set_title('Гистограмма распределения')\n",
    "# строим 'ящики с усами'\n",
    "sns.boxplot(data=values_total)\n",
    "axes[1].set_title('Разброс значений признаков')\n",
    "plt.show()"
   ]
  },
  {
   "cell_type": "markdown",
   "metadata": {},
   "source": [
    "На графиках видно, что во втором регионе значительно меньше отрицательных значений прибыли, медианное значение прибыли выше и вариация прибыли меньше, чем в первом и третьем регионах."
   ]
  },
  {
   "cell_type": "code",
   "execution_count": 21,
   "metadata": {},
   "outputs": [
    {
     "data": {
      "text/html": [
       "<div>\n",
       "<style scoped>\n",
       "    .dataframe tbody tr th:only-of-type {\n",
       "        vertical-align: middle;\n",
       "    }\n",
       "\n",
       "    .dataframe tbody tr th {\n",
       "        vertical-align: top;\n",
       "    }\n",
       "\n",
       "    .dataframe thead th {\n",
       "        text-align: right;\n",
       "    }\n",
       "</style>\n",
       "<table border=\"1\" class=\"dataframe\">\n",
       "  <thead>\n",
       "    <tr style=\"text-align: right;\">\n",
       "      <th></th>\n",
       "      <th>mean_profits</th>\n",
       "      <th>risk_loss</th>\n",
       "      <th>conf_intervals</th>\n",
       "    </tr>\n",
       "  </thead>\n",
       "  <tbody>\n",
       "    <tr>\n",
       "      <th>0</th>\n",
       "      <td>435933.8</td>\n",
       "      <td>6.1</td>\n",
       "      <td>[-116231.6, 966504.2]</td>\n",
       "    </tr>\n",
       "    <tr>\n",
       "      <th>1</th>\n",
       "      <td>489661.3</td>\n",
       "      <td>1.1</td>\n",
       "      <td>[55116.2, 905762.7]</td>\n",
       "    </tr>\n",
       "    <tr>\n",
       "      <th>2</th>\n",
       "      <td>403687.9</td>\n",
       "      <td>7.1</td>\n",
       "      <td>[-153117.0, 952887.4]</td>\n",
       "    </tr>\n",
       "  </tbody>\n",
       "</table>\n",
       "</div>"
      ],
      "text/plain": [
       "   mean_profits  risk_loss         conf_intervals\n",
       "0      435933.8        6.1  [-116231.6, 966504.2]\n",
       "1      489661.3        1.1    [55116.2, 905762.7]\n",
       "2      403687.9        7.1  [-153117.0, 952887.4]"
      ]
     },
     "execution_count": 21,
     "metadata": {},
     "output_type": "execute_result"
    }
   ],
   "source": [
    "# Создадим датафрейм с результатами работы функции\n",
    "results = [\n",
    "    [mean_profits_0, risk_loss_0, conf_interval_0],\n",
    "    [mean_profits_1, risk_loss_1, conf_interval_1],\n",
    "    [mean_profits_2, risk_loss_2, conf_interval_2]\n",
    "]\n",
    "\n",
    "data = pd.DataFrame(results, columns=['mean_profits', 'risk_loss', 'conf_intervals'])\n",
    "data"
   ]
  },
  {
   "cell_type": "markdown",
   "metadata": {},
   "source": [
    "**Вывод.** Результаты расчёта прибыли и риска убытков показывают, что самый низкий риск убытков во втором регионе (1,1 %). В первом регионе риск убытков 6,1 %, в третьем - 7,1 %. Средняя прибыль от одной скважины выше также во втором регионе: 489661,3 тыс. руб. В первом и третьем регионах прибыль составляет соответственно 435933,8 и 403687,9 тыс. руб. Таким образом, регион, подходящий для разработки - второй."
   ]
  },
  {
   "cell_type": "markdown",
   "metadata": {},
   "source": [
    "Итак, проведено исследование характеристик скважин с целью выбора лучшего региона для разработки.  \n",
    "\n",
    "Данные загружены, проверены на пропуски и дубликаты, рассмотрено распределение целевого признака, наличие взаимосвязи между признаками. Распределение целевого признака - объёма запасов сырья - во втором регионе сильно отличается от распределения в первом и третьем регионах. Существует взаимосвязь некоторых входных признаков с целевым, во втором регионе - сильная.  \n",
    "\n",
    "Исходные данные будут разделены на входные и целевой признаки, а также на тренировочную и валидационную выборки. Все данные будут масштабированы. Это будет сделано при помощи одной функции перед обучением и проверкой модели.\n",
    "\n",
    "Для обучения модели использована линейная регрессия, написана функция для разделения и масштабирования исходных данных и обучения модели. Модель проверена на валидационной выборке метрикой RSME. Самый точный прогноз модель линейной регрессии дала по второму региону: модель ошибается в среднем всего на 0,89 тыс. баррелей. Средний запас предсказанного сырья составил во втором регионе 68,7 тыс. баррелей. В первом и третьем регионах RSME (средняя ошибка модели) составил 37,8 и 40,1 тыс. баррелей соответственно, а средний запас предсказанного сырья составил 92,4 и 94,8 тыс. баррелей соответственно. Итак, во втором регионе запасы предсказаны в среднем по объёму меньше, но точнее.\n",
    "\n",
    "Все ключевые значения для расчёта прибыли и рисков сохранены в отдельных переменных.\n",
    "Рассчитан достаточный объём сырья для безубыточной разработки новой скважины (для этого бюджет на разработку одной скважины должен быть равен доходу с одной скважины). Достаточный объём сырья для безубыточной разработки новой скважины: 111,11 тыс. баррелей. Предсказанный средний объём сырья в каждой скважине в трёх регионах: 92,4б 68,71, 94,77 тыс. баррелей. Средний предсказанный объём сырья в одной скважине во всех трёх регионах меньше достаточного объёма сырья для безубыточной разработки новой скважины. Очевидно, что все скважины подряд в регионах разрабатывать нерентабельно. Необходимо выбрать скважины с максимальными значениями предсказаний, просуммировать целевое значение объёма сырья, соответствующее этим предсказаниям и рассчитать прибыль для полученного объёма сырья. Это нужно выполнить для каждого из трёх регионов по отдельности.  \n",
    "\n",
    "Расчёты показали, что втором регионе значительно меньше отрицательных значений прибыли, медианное значение прибыли выше и вариация прибыли меньше, чем в первом и третьем регионах. Результаты расчётов прибыли и риска убытков подтверждают, что самый низкий риск убытков во втором регионе (1,1 %). В первом регионе риск убытков 6,1 %, в третьем - 7,1 %. Средняя прибыль от одной скважины выше также во втором регионе: 489661,3 тыс. руб. В первом и третьем регионах прибыль составляет соответственно 435933,8 и 403687,9 тыс. руб.  \n",
    "\n",
    "Таким образом, второй регион лучше всего подходит для разработки, так как риск убытков во втором регионе самый низкий, а ожидаемая прибыль самая высокая."
   ]
  },
  {
   "cell_type": "code",
   "execution_count": null,
   "metadata": {},
   "outputs": [],
   "source": []
  }
 ],
 "metadata": {
  "ExecuteTimeLog": [
   {
    "duration": 1321,
    "start_time": "2024-04-30T02:48:24.286Z"
   },
   {
    "duration": 3,
    "start_time": "2024-04-30T02:49:10.418Z"
   },
   {
    "duration": 281,
    "start_time": "2024-04-30T03:38:27.245Z"
   },
   {
    "duration": 182,
    "start_time": "2024-04-30T03:39:31.580Z"
   },
   {
    "duration": 265,
    "start_time": "2024-04-30T03:40:52.462Z"
   },
   {
    "duration": 271,
    "start_time": "2024-04-30T03:41:59.363Z"
   },
   {
    "duration": 80,
    "start_time": "2024-04-30T03:47:38.298Z"
   },
   {
    "duration": 5439,
    "start_time": "2024-04-30T04:18:41.277Z"
   },
   {
    "duration": 5546,
    "start_time": "2024-04-30T04:20:11.171Z"
   },
   {
    "duration": 5168,
    "start_time": "2024-04-30T04:29:00.232Z"
   },
   {
    "duration": 5393,
    "start_time": "2024-04-30T04:29:26.417Z"
   },
   {
    "duration": 4,
    "start_time": "2024-04-30T04:36:28.552Z"
   },
   {
    "duration": 317,
    "start_time": "2024-04-30T04:37:27.104Z"
   },
   {
    "duration": 328,
    "start_time": "2024-04-30T04:38:06.954Z"
   },
   {
    "duration": 332,
    "start_time": "2024-04-30T04:38:34.486Z"
   },
   {
    "duration": 6,
    "start_time": "2024-04-30T04:38:48.617Z"
   },
   {
    "duration": 428,
    "start_time": "2024-04-30T04:38:49.160Z"
   },
   {
    "duration": 336,
    "start_time": "2024-04-30T04:38:49.621Z"
   },
   {
    "duration": 293,
    "start_time": "2024-04-30T04:38:50.251Z"
   },
   {
    "duration": 921,
    "start_time": "2024-04-30T04:43:17.645Z"
   },
   {
    "duration": 1408,
    "start_time": "2024-05-02T05:08:01.430Z"
   },
   {
    "duration": 3,
    "start_time": "2024-05-02T05:08:02.840Z"
   },
   {
    "duration": 644,
    "start_time": "2024-05-02T05:08:02.844Z"
   },
   {
    "duration": 562,
    "start_time": "2024-05-02T05:08:03.490Z"
   },
   {
    "duration": 568,
    "start_time": "2024-05-02T05:08:04.053Z"
   },
   {
    "duration": 88,
    "start_time": "2024-05-02T05:08:04.622Z"
   },
   {
    "duration": 4,
    "start_time": "2024-05-02T05:08:04.712Z"
   },
   {
    "duration": 990,
    "start_time": "2024-05-02T05:08:04.717Z"
   },
   {
    "duration": 3,
    "start_time": "2024-05-02T05:08:05.708Z"
   },
   {
    "duration": 383,
    "start_time": "2024-05-02T05:10:42.976Z"
   },
   {
    "duration": 1166,
    "start_time": "2024-05-02T05:14:52.353Z"
   },
   {
    "duration": 1029,
    "start_time": "2024-05-02T05:15:20.130Z"
   },
   {
    "duration": 1156,
    "start_time": "2024-05-02T05:44:39.384Z"
   },
   {
    "duration": 411,
    "start_time": "2024-05-02T06:07:06.733Z"
   },
   {
    "duration": 46,
    "start_time": "2024-05-02T06:07:17.983Z"
   },
   {
    "duration": 43,
    "start_time": "2024-05-02T06:29:34.945Z"
   },
   {
    "duration": 495,
    "start_time": "2024-05-02T06:32:54.291Z"
   },
   {
    "duration": 3,
    "start_time": "2024-05-02T06:34:32.363Z"
   },
   {
    "duration": 116,
    "start_time": "2024-05-02T06:34:52.437Z"
   },
   {
    "duration": 11,
    "start_time": "2024-05-02T06:35:12.353Z"
   },
   {
    "duration": 13,
    "start_time": "2024-05-02T06:37:17.158Z"
   },
   {
    "duration": 17,
    "start_time": "2024-05-02T06:37:45.692Z"
   },
   {
    "duration": 5,
    "start_time": "2024-05-02T06:38:31.240Z"
   },
   {
    "duration": 6,
    "start_time": "2024-05-02T06:39:05.684Z"
   },
   {
    "duration": 474,
    "start_time": "2024-05-02T06:39:52.059Z"
   },
   {
    "duration": 29,
    "start_time": "2024-05-02T06:41:24.442Z"
   },
   {
    "duration": 21,
    "start_time": "2024-05-02T06:46:52.938Z"
   },
   {
    "duration": 4,
    "start_time": "2024-05-02T07:06:50.247Z"
   },
   {
    "duration": 60,
    "start_time": "2024-05-02T07:10:19.921Z"
   },
   {
    "duration": 5,
    "start_time": "2024-05-02T07:18:34.946Z"
   },
   {
    "duration": 28,
    "start_time": "2024-05-02T07:22:52.210Z"
   },
   {
    "duration": 6,
    "start_time": "2024-05-02T08:12:12.712Z"
   },
   {
    "duration": 4,
    "start_time": "2024-05-02T08:25:42.273Z"
   },
   {
    "duration": 1230,
    "start_time": "2024-05-02T08:25:45.364Z"
   },
   {
    "duration": 5,
    "start_time": "2024-05-02T08:26:39.744Z"
   },
   {
    "duration": 1108,
    "start_time": "2024-05-02T08:26:44.159Z"
   },
   {
    "duration": 697,
    "start_time": "2024-05-02T08:50:06.871Z"
   },
   {
    "duration": 12,
    "start_time": "2024-05-02T08:50:11.052Z"
   },
   {
    "duration": 7,
    "start_time": "2024-05-02T08:50:13.125Z"
   },
   {
    "duration": 513,
    "start_time": "2024-05-02T08:50:15.681Z"
   },
   {
    "duration": 71,
    "start_time": "2024-05-02T08:50:19.314Z"
   },
   {
    "duration": 21,
    "start_time": "2024-05-02T08:50:23.339Z"
   },
   {
    "duration": 5,
    "start_time": "2024-05-02T08:50:32.916Z"
   },
   {
    "duration": 235,
    "start_time": "2024-05-02T09:00:15.947Z"
   },
   {
    "duration": 6769,
    "start_time": "2024-05-02T09:00:47.884Z"
   },
   {
    "duration": 241,
    "start_time": "2024-05-02T09:02:02.799Z"
   },
   {
    "duration": 92,
    "start_time": "2024-05-02T09:02:22.333Z"
   },
   {
    "duration": 238,
    "start_time": "2024-05-02T09:02:39.381Z"
   },
   {
    "duration": 3425,
    "start_time": "2024-05-02T09:02:45.108Z"
   },
   {
    "duration": 6,
    "start_time": "2024-05-02T09:09:15.158Z"
   },
   {
    "duration": 7317,
    "start_time": "2024-05-02T09:09:45.688Z"
   },
   {
    "duration": 6,
    "start_time": "2024-05-02T09:13:26.109Z"
   },
   {
    "duration": 6966,
    "start_time": "2024-05-02T09:13:28.430Z"
   },
   {
    "duration": 8,
    "start_time": "2024-05-02T09:15:22.800Z"
   },
   {
    "duration": 11463,
    "start_time": "2024-05-02T09:15:23.770Z"
   },
   {
    "duration": 8,
    "start_time": "2024-05-02T09:16:02.363Z"
   },
   {
    "duration": 11767,
    "start_time": "2024-05-02T09:16:03.145Z"
   },
   {
    "duration": 11,
    "start_time": "2024-05-02T09:23:24.773Z"
   },
   {
    "duration": 11736,
    "start_time": "2024-05-02T09:23:26.587Z"
   },
   {
    "duration": 11,
    "start_time": "2024-05-02T09:24:42.242Z"
   },
   {
    "duration": 11720,
    "start_time": "2024-05-02T09:24:43.166Z"
   },
   {
    "duration": 4485,
    "start_time": "2024-05-02T09:37:33.486Z"
   },
   {
    "duration": 5,
    "start_time": "2024-05-02T09:37:41.480Z"
   },
   {
    "duration": 44,
    "start_time": "2024-05-02T09:37:42.571Z"
   },
   {
    "duration": 57,
    "start_time": "2024-05-02T09:38:07.224Z"
   },
   {
    "duration": 4,
    "start_time": "2024-05-02T09:38:24.199Z"
   },
   {
    "duration": 346,
    "start_time": "2024-05-02T09:38:25.022Z"
   },
   {
    "duration": 17,
    "start_time": "2024-05-02T09:40:04.799Z"
   },
   {
    "duration": 21,
    "start_time": "2024-05-02T09:40:26.400Z"
   },
   {
    "duration": 6,
    "start_time": "2024-05-02T09:41:59.127Z"
   },
   {
    "duration": 17,
    "start_time": "2024-05-02T09:42:22.471Z"
   },
   {
    "duration": 23,
    "start_time": "2024-05-02T09:42:33.158Z"
   },
   {
    "duration": 18,
    "start_time": "2024-05-02T09:42:42.569Z"
   },
   {
    "duration": 16,
    "start_time": "2024-05-02T09:42:54.888Z"
   },
   {
    "duration": 16,
    "start_time": "2024-05-02T09:43:01.478Z"
   },
   {
    "duration": 16,
    "start_time": "2024-05-02T09:43:10.275Z"
   },
   {
    "duration": 27,
    "start_time": "2024-05-02T09:43:27.756Z"
   },
   {
    "duration": 4,
    "start_time": "2024-05-02T09:43:47.638Z"
   },
   {
    "duration": 5,
    "start_time": "2024-05-02T09:43:55.283Z"
   },
   {
    "duration": 4,
    "start_time": "2024-05-02T09:43:59.848Z"
   },
   {
    "duration": 4,
    "start_time": "2024-05-02T09:44:09.802Z"
   },
   {
    "duration": 50,
    "start_time": "2024-05-02T10:03:51.775Z"
   },
   {
    "duration": 6,
    "start_time": "2024-05-02T10:04:04.982Z"
   },
   {
    "duration": 179,
    "start_time": "2024-05-02T10:04:05.621Z"
   },
   {
    "duration": 209,
    "start_time": "2024-05-02T10:07:22.682Z"
   },
   {
    "duration": 6,
    "start_time": "2024-05-02T10:10:10.990Z"
   },
   {
    "duration": 77,
    "start_time": "2024-05-02T10:11:47.347Z"
   },
   {
    "duration": 678,
    "start_time": "2024-05-02T10:12:20.516Z"
   },
   {
    "duration": 634,
    "start_time": "2024-05-02T10:13:37.060Z"
   },
   {
    "duration": 1619,
    "start_time": "2024-05-03T04:51:15.939Z"
   },
   {
    "duration": 3,
    "start_time": "2024-05-03T04:51:17.561Z"
   },
   {
    "duration": 291,
    "start_time": "2024-05-03T04:51:17.565Z"
   },
   {
    "duration": 245,
    "start_time": "2024-05-03T04:51:17.859Z"
   },
   {
    "duration": 248,
    "start_time": "2024-05-03T04:51:18.105Z"
   },
   {
    "duration": 77,
    "start_time": "2024-05-03T04:51:18.355Z"
   },
   {
    "duration": 5,
    "start_time": "2024-05-03T04:51:18.434Z"
   },
   {
    "duration": 1073,
    "start_time": "2024-05-03T04:51:18.441Z"
   },
   {
    "duration": 1268,
    "start_time": "2024-05-03T04:51:19.516Z"
   },
   {
    "duration": 6,
    "start_time": "2024-05-03T04:51:20.786Z"
   },
   {
    "duration": 697,
    "start_time": "2024-05-03T04:51:20.794Z"
   },
   {
    "duration": 3,
    "start_time": "2024-05-03T05:12:00.698Z"
   },
   {
    "duration": 4,
    "start_time": "2024-05-03T05:14:46.575Z"
   },
   {
    "duration": 4,
    "start_time": "2024-05-03T05:16:55.816Z"
   },
   {
    "duration": 4,
    "start_time": "2024-05-03T05:17:30.399Z"
   },
   {
    "duration": 3,
    "start_time": "2024-05-03T05:17:40.175Z"
   },
   {
    "duration": 3,
    "start_time": "2024-05-03T05:19:48.291Z"
   },
   {
    "duration": 4,
    "start_time": "2024-05-03T05:26:10.604Z"
   },
   {
    "duration": 123,
    "start_time": "2024-05-03T05:26:22.344Z"
   },
   {
    "duration": 9,
    "start_time": "2024-05-03T05:26:27.750Z"
   },
   {
    "duration": 3,
    "start_time": "2024-05-03T05:26:52.768Z"
   },
   {
    "duration": 3,
    "start_time": "2024-05-03T05:27:07.566Z"
   },
   {
    "duration": 4,
    "start_time": "2024-05-03T05:28:38.027Z"
   },
   {
    "duration": 3,
    "start_time": "2024-05-03T05:29:00.421Z"
   },
   {
    "duration": 13,
    "start_time": "2024-05-03T05:29:34.273Z"
   },
   {
    "duration": 3,
    "start_time": "2024-05-03T05:29:40.776Z"
   },
   {
    "duration": 3,
    "start_time": "2024-05-03T05:29:52.182Z"
   },
   {
    "duration": 3,
    "start_time": "2024-05-03T05:30:13.685Z"
   },
   {
    "duration": 152,
    "start_time": "2024-05-03T05:32:58.537Z"
   },
   {
    "duration": 8,
    "start_time": "2024-05-03T05:34:19.386Z"
   },
   {
    "duration": 6,
    "start_time": "2024-05-03T05:35:04.321Z"
   },
   {
    "duration": 157,
    "start_time": "2024-05-03T05:35:30.983Z"
   },
   {
    "duration": 153,
    "start_time": "2024-05-03T05:35:45.904Z"
   },
   {
    "duration": 138,
    "start_time": "2024-05-03T05:36:11.413Z"
   },
   {
    "duration": 135,
    "start_time": "2024-05-03T05:36:41.551Z"
   },
   {
    "duration": 118,
    "start_time": "2024-05-03T05:37:05.172Z"
   },
   {
    "duration": 105,
    "start_time": "2024-05-03T05:37:50.300Z"
   },
   {
    "duration": 245,
    "start_time": "2024-05-03T05:37:58.869Z"
   },
   {
    "duration": 96,
    "start_time": "2024-05-03T05:38:07.137Z"
   },
   {
    "duration": 15,
    "start_time": "2024-05-03T06:19:45.645Z"
   },
   {
    "duration": 113,
    "start_time": "2024-05-03T06:22:13.125Z"
   },
   {
    "duration": 124,
    "start_time": "2024-05-03T06:24:28.499Z"
   },
   {
    "duration": 140,
    "start_time": "2024-05-03T06:24:53.037Z"
   },
   {
    "duration": 125,
    "start_time": "2024-05-03T06:25:21.057Z"
   },
   {
    "duration": 198,
    "start_time": "2024-05-03T06:32:24.631Z"
   },
   {
    "duration": 243,
    "start_time": "2024-05-03T06:32:51.274Z"
   },
   {
    "duration": 134,
    "start_time": "2024-05-03T06:33:39.009Z"
   },
   {
    "duration": 238,
    "start_time": "2024-05-03T06:33:43.383Z"
   },
   {
    "duration": 199,
    "start_time": "2024-05-03T06:33:56.527Z"
   },
   {
    "duration": 153,
    "start_time": "2024-05-03T06:34:05.430Z"
   },
   {
    "duration": 275,
    "start_time": "2024-05-03T06:34:10.460Z"
   },
   {
    "duration": 262,
    "start_time": "2024-05-03T06:40:05.238Z"
   },
   {
    "duration": 11,
    "start_time": "2024-05-03T06:56:34.576Z"
   },
   {
    "duration": 12,
    "start_time": "2024-05-03T06:57:50.779Z"
   },
   {
    "duration": 18,
    "start_time": "2024-05-03T06:59:30.034Z"
   },
   {
    "duration": 5,
    "start_time": "2024-05-03T07:01:35.604Z"
   },
   {
    "duration": 7,
    "start_time": "2024-05-03T07:59:42.330Z"
   },
   {
    "duration": 8,
    "start_time": "2024-05-03T08:03:05.115Z"
   },
   {
    "duration": 18,
    "start_time": "2024-05-03T08:29:39.913Z"
   },
   {
    "duration": 4,
    "start_time": "2024-05-03T08:29:56.682Z"
   },
   {
    "duration": 4,
    "start_time": "2024-05-03T08:29:57.933Z"
   },
   {
    "duration": 14,
    "start_time": "2024-05-03T08:40:00.253Z"
   },
   {
    "duration": 5,
    "start_time": "2024-05-03T08:40:12.298Z"
   },
   {
    "duration": 13,
    "start_time": "2024-05-03T08:40:27.212Z"
   },
   {
    "duration": 989,
    "start_time": "2024-05-03T08:41:02.191Z"
   },
   {
    "duration": 4,
    "start_time": "2024-05-03T08:59:57.198Z"
   },
   {
    "duration": 4,
    "start_time": "2024-05-03T08:59:58.615Z"
   },
   {
    "duration": 9,
    "start_time": "2024-05-03T09:05:18.620Z"
   },
   {
    "duration": 6,
    "start_time": "2024-05-03T09:05:39.443Z"
   },
   {
    "duration": 6,
    "start_time": "2024-05-03T09:07:48.672Z"
   },
   {
    "duration": 7,
    "start_time": "2024-05-03T09:09:47.498Z"
   },
   {
    "duration": 827,
    "start_time": "2024-05-03T09:30:15.829Z"
   },
   {
    "duration": 813,
    "start_time": "2024-05-03T09:37:39.751Z"
   },
   {
    "duration": 141,
    "start_time": "2024-05-03T09:37:58.847Z"
   },
   {
    "duration": 255,
    "start_time": "2024-05-03T09:38:52.138Z"
   },
   {
    "duration": 12,
    "start_time": "2024-05-03T09:43:00.028Z"
   },
   {
    "duration": 10,
    "start_time": "2024-05-03T09:43:11.283Z"
   },
   {
    "duration": 10,
    "start_time": "2024-05-03T09:44:03.514Z"
   },
   {
    "duration": 15,
    "start_time": "2024-05-03T09:45:57.169Z"
   },
   {
    "duration": 716,
    "start_time": "2024-05-03T09:47:32.699Z"
   },
   {
    "duration": 10,
    "start_time": "2024-05-03T09:47:58.512Z"
   },
   {
    "duration": 9,
    "start_time": "2024-05-03T09:48:21.435Z"
   },
   {
    "duration": 11,
    "start_time": "2024-05-03T10:37:15.395Z"
   },
   {
    "duration": 10,
    "start_time": "2024-05-03T10:38:12.150Z"
   },
   {
    "duration": 995,
    "start_time": "2024-05-03T10:38:41.355Z"
   },
   {
    "duration": 131,
    "start_time": "2024-05-03T10:39:13.639Z"
   },
   {
    "duration": 86,
    "start_time": "2024-05-03T10:40:05.974Z"
   },
   {
    "duration": 98,
    "start_time": "2024-05-03T10:41:45.035Z"
   },
   {
    "duration": 4,
    "start_time": "2024-05-03T10:42:06.435Z"
   },
   {
    "duration": 5,
    "start_time": "2024-05-03T10:48:16.377Z"
   },
   {
    "duration": 15,
    "start_time": "2024-05-03T10:51:36.118Z"
   },
   {
    "duration": 218,
    "start_time": "2024-05-03T10:51:48.621Z"
   },
   {
    "duration": 262,
    "start_time": "2024-05-03T10:52:01.462Z"
   },
   {
    "duration": 219,
    "start_time": "2024-05-03T10:52:20.421Z"
   },
   {
    "duration": 163,
    "start_time": "2024-05-03T10:57:37.350Z"
   },
   {
    "duration": 152,
    "start_time": "2024-05-03T10:57:47.096Z"
   },
   {
    "duration": 1483,
    "start_time": "2024-05-03T11:03:09.687Z"
   },
   {
    "duration": 3,
    "start_time": "2024-05-03T11:03:11.172Z"
   },
   {
    "duration": 226,
    "start_time": "2024-05-03T11:03:11.176Z"
   },
   {
    "duration": 194,
    "start_time": "2024-05-03T11:03:11.403Z"
   },
   {
    "duration": 188,
    "start_time": "2024-05-03T11:03:11.600Z"
   },
   {
    "duration": 98,
    "start_time": "2024-05-03T11:03:11.790Z"
   },
   {
    "duration": 5,
    "start_time": "2024-05-03T11:03:11.890Z"
   },
   {
    "duration": 1086,
    "start_time": "2024-05-03T11:03:11.896Z"
   },
   {
    "duration": 1303,
    "start_time": "2024-05-03T11:03:12.983Z"
   },
   {
    "duration": 5,
    "start_time": "2024-05-03T11:03:14.288Z"
   },
   {
    "duration": 600,
    "start_time": "2024-05-03T11:03:14.295Z"
   },
   {
    "duration": 3,
    "start_time": "2024-05-03T11:03:14.897Z"
   },
   {
    "duration": 8,
    "start_time": "2024-05-03T11:03:14.901Z"
   },
   {
    "duration": 4,
    "start_time": "2024-05-03T11:03:14.911Z"
   },
   {
    "duration": 320,
    "start_time": "2024-05-03T11:03:14.916Z"
   },
   {
    "duration": 10,
    "start_time": "2024-05-03T11:03:15.238Z"
   },
   {
    "duration": 133,
    "start_time": "2024-05-03T11:03:15.250Z"
   },
   {
    "duration": 0,
    "start_time": "2024-05-03T11:03:15.385Z"
   },
   {
    "duration": 0,
    "start_time": "2024-05-03T11:03:15.386Z"
   },
   {
    "duration": 10,
    "start_time": "2024-05-03T11:03:46.674Z"
   },
   {
    "duration": 959,
    "start_time": "2024-05-03T11:09:28.528Z"
   },
   {
    "duration": 26,
    "start_time": "2024-05-03T11:23:54.489Z"
   },
   {
    "duration": 24,
    "start_time": "2024-05-03T11:24:43.644Z"
   },
   {
    "duration": 9,
    "start_time": "2024-05-03T11:25:11.094Z"
   },
   {
    "duration": 17,
    "start_time": "2024-05-03T11:26:45.644Z"
   },
   {
    "duration": 4,
    "start_time": "2024-05-03T11:31:39.249Z"
   },
   {
    "duration": 4,
    "start_time": "2024-05-03T11:31:46.507Z"
   },
   {
    "duration": 283,
    "start_time": "2024-05-03T11:31:47.453Z"
   },
   {
    "duration": 25,
    "start_time": "2024-05-03T11:37:17.715Z"
   },
   {
    "duration": 8,
    "start_time": "2024-05-03T11:38:12.140Z"
   },
   {
    "duration": 9,
    "start_time": "2024-05-03T11:39:24.589Z"
   },
   {
    "duration": 11,
    "start_time": "2024-05-03T11:39:47.495Z"
   },
   {
    "duration": 10,
    "start_time": "2024-05-03T11:41:08.366Z"
   },
   {
    "duration": 10,
    "start_time": "2024-05-03T11:44:52.699Z"
   },
   {
    "duration": 10,
    "start_time": "2024-05-03T11:47:14.670Z"
   },
   {
    "duration": 10,
    "start_time": "2024-05-03T11:47:31.433Z"
   },
   {
    "duration": 20,
    "start_time": "2024-05-03T11:48:28.178Z"
   },
   {
    "duration": 22,
    "start_time": "2024-05-03T11:56:32.532Z"
   },
   {
    "duration": 21,
    "start_time": "2024-05-03T12:40:57.715Z"
   },
   {
    "duration": 743,
    "start_time": "2024-05-03T12:43:58.414Z"
   },
   {
    "duration": 14,
    "start_time": "2024-05-03T12:44:28.598Z"
   },
   {
    "duration": 11,
    "start_time": "2024-05-03T12:53:42.959Z"
   },
   {
    "duration": 19,
    "start_time": "2024-05-03T12:54:35.587Z"
   },
   {
    "duration": 20,
    "start_time": "2024-05-03T13:00:38.379Z"
   },
   {
    "duration": 1377,
    "start_time": "2024-05-03T13:01:47.308Z"
   },
   {
    "duration": 168,
    "start_time": "2024-05-03T13:02:19.064Z"
   },
   {
    "duration": 5,
    "start_time": "2024-05-03T13:06:01.697Z"
   },
   {
    "duration": 5,
    "start_time": "2024-05-03T13:13:19.191Z"
   },
   {
    "duration": 5,
    "start_time": "2024-05-03T13:13:48.811Z"
   },
   {
    "duration": 1683,
    "start_time": "2024-05-04T05:07:57.581Z"
   },
   {
    "duration": 4,
    "start_time": "2024-05-04T05:07:59.266Z"
   },
   {
    "duration": 673,
    "start_time": "2024-05-04T05:07:59.271Z"
   },
   {
    "duration": 601,
    "start_time": "2024-05-04T05:07:59.946Z"
   },
   {
    "duration": 655,
    "start_time": "2024-05-04T05:08:00.549Z"
   },
   {
    "duration": 88,
    "start_time": "2024-05-04T05:08:01.206Z"
   },
   {
    "duration": 4,
    "start_time": "2024-05-04T05:08:01.296Z"
   },
   {
    "duration": 1177,
    "start_time": "2024-05-04T05:08:01.302Z"
   },
   {
    "duration": 1310,
    "start_time": "2024-05-04T05:08:02.481Z"
   },
   {
    "duration": 9,
    "start_time": "2024-05-04T05:08:03.793Z"
   },
   {
    "duration": 878,
    "start_time": "2024-05-04T05:08:03.804Z"
   },
   {
    "duration": 3,
    "start_time": "2024-05-04T05:08:04.685Z"
   },
   {
    "duration": 84,
    "start_time": "2024-05-04T05:08:04.690Z"
   },
   {
    "duration": 4,
    "start_time": "2024-05-04T05:08:04.777Z"
   },
   {
    "duration": 242,
    "start_time": "2024-05-04T05:08:04.783Z"
   },
   {
    "duration": 19,
    "start_time": "2024-05-04T05:08:05.027Z"
   },
   {
    "duration": 45,
    "start_time": "2024-05-04T05:08:05.047Z"
   },
   {
    "duration": 1485,
    "start_time": "2024-05-04T05:08:05.094Z"
   },
   {
    "duration": 177,
    "start_time": "2024-05-04T05:08:06.581Z"
   },
   {
    "duration": 13,
    "start_time": "2024-05-04T05:08:06.760Z"
   },
   {
    "duration": 5,
    "start_time": "2024-05-04T05:08:33.450Z"
   },
   {
    "duration": 5,
    "start_time": "2024-05-04T05:09:14.599Z"
   },
   {
    "duration": 4,
    "start_time": "2024-05-04T05:21:42.764Z"
   },
   {
    "duration": 24,
    "start_time": "2024-05-04T05:24:26.515Z"
   },
   {
    "duration": 19,
    "start_time": "2024-05-04T05:25:14.614Z"
   },
   {
    "duration": 20,
    "start_time": "2024-05-04T05:31:42.344Z"
   },
   {
    "duration": 22,
    "start_time": "2024-05-04T05:39:14.045Z"
   },
   {
    "duration": 5,
    "start_time": "2024-05-04T05:51:08.070Z"
   },
   {
    "duration": 1509,
    "start_time": "2024-05-04T05:52:17.690Z"
   },
   {
    "duration": 5,
    "start_time": "2024-05-04T05:52:32.809Z"
   },
   {
    "duration": 1386,
    "start_time": "2024-05-04T05:52:34.250Z"
   },
   {
    "duration": 1385,
    "start_time": "2024-05-04T05:53:27.539Z"
   },
   {
    "duration": 1403,
    "start_time": "2024-05-04T05:53:57.653Z"
   },
   {
    "duration": 8,
    "start_time": "2024-05-04T05:55:17.952Z"
   },
   {
    "duration": 1424,
    "start_time": "2024-05-04T05:55:19.323Z"
   },
   {
    "duration": 1415,
    "start_time": "2024-05-04T05:55:21.872Z"
   },
   {
    "duration": 1387,
    "start_time": "2024-05-04T05:55:24.333Z"
   },
   {
    "duration": 6,
    "start_time": "2024-05-04T05:57:35.571Z"
   },
   {
    "duration": 1587,
    "start_time": "2024-05-04T05:58:32.676Z"
   },
   {
    "duration": 1564,
    "start_time": "2024-05-04T05:59:05.418Z"
   },
   {
    "duration": 1552,
    "start_time": "2024-05-04T05:59:28.503Z"
   },
   {
    "duration": 1568,
    "start_time": "2024-05-04T05:59:50.281Z"
   },
   {
    "duration": 1686,
    "start_time": "2024-05-04T06:05:13.916Z"
   },
   {
    "duration": 1566,
    "start_time": "2024-05-04T06:05:56.393Z"
   },
   {
    "duration": 1618,
    "start_time": "2024-05-04T06:06:35.783Z"
   },
   {
    "duration": 6,
    "start_time": "2024-05-04T06:07:45.033Z"
   },
   {
    "duration": 1604,
    "start_time": "2024-05-04T06:07:45.542Z"
   },
   {
    "duration": 1560,
    "start_time": "2024-05-04T06:10:24.092Z"
   },
   {
    "duration": 1544,
    "start_time": "2024-05-04T06:10:56.163Z"
   },
   {
    "duration": 1646,
    "start_time": "2024-05-04T06:11:21.836Z"
   },
   {
    "duration": 1560,
    "start_time": "2024-05-04T06:13:08.519Z"
   },
   {
    "duration": 1573,
    "start_time": "2024-05-04T06:14:09.558Z"
   },
   {
    "duration": 1573,
    "start_time": "2024-05-04T06:14:41.177Z"
   },
   {
    "duration": 1580,
    "start_time": "2024-05-04T06:14:48.810Z"
   },
   {
    "duration": 103,
    "start_time": "2024-05-04T06:25:12.030Z"
   },
   {
    "duration": 5,
    "start_time": "2024-05-04T06:28:07.984Z"
   },
   {
    "duration": 4688,
    "start_time": "2024-05-04T06:28:08.906Z"
   },
   {
    "duration": 5,
    "start_time": "2024-05-04T06:28:13.596Z"
   },
   {
    "duration": 328,
    "start_time": "2024-05-04T06:31:58.603Z"
   },
   {
    "duration": 5,
    "start_time": "2024-05-04T06:32:37.210Z"
   },
   {
    "duration": 4189,
    "start_time": "2024-05-04T06:32:38.205Z"
   },
   {
    "duration": 5,
    "start_time": "2024-05-04T06:32:42.395Z"
   },
   {
    "duration": 331,
    "start_time": "2024-05-04T06:32:42.401Z"
   },
   {
    "duration": 11,
    "start_time": "2024-05-04T06:40:54.586Z"
   },
   {
    "duration": 46,
    "start_time": "2024-05-04T09:39:50.720Z"
   },
   {
    "duration": 7,
    "start_time": "2024-05-04T09:40:27.480Z"
   },
   {
    "duration": 1553,
    "start_time": "2024-05-04T09:40:43.522Z"
   },
   {
    "duration": 4,
    "start_time": "2024-05-04T09:40:45.077Z"
   },
   {
    "duration": 685,
    "start_time": "2024-05-04T09:40:45.083Z"
   },
   {
    "duration": 564,
    "start_time": "2024-05-04T09:40:45.770Z"
   },
   {
    "duration": 575,
    "start_time": "2024-05-04T09:40:46.336Z"
   },
   {
    "duration": 86,
    "start_time": "2024-05-04T09:40:46.912Z"
   },
   {
    "duration": 6,
    "start_time": "2024-05-04T09:40:47.001Z"
   },
   {
    "duration": 1104,
    "start_time": "2024-05-04T09:40:47.008Z"
   },
   {
    "duration": 1280,
    "start_time": "2024-05-04T09:40:48.114Z"
   },
   {
    "duration": 6,
    "start_time": "2024-05-04T09:40:49.396Z"
   },
   {
    "duration": 700,
    "start_time": "2024-05-04T09:40:49.403Z"
   },
   {
    "duration": 2,
    "start_time": "2024-05-04T09:40:50.105Z"
   },
   {
    "duration": 63,
    "start_time": "2024-05-04T09:40:50.109Z"
   },
   {
    "duration": 23,
    "start_time": "2024-05-04T09:40:50.174Z"
   },
   {
    "duration": 315,
    "start_time": "2024-05-04T09:40:50.199Z"
   },
   {
    "duration": 3,
    "start_time": "2024-05-04T09:40:55.842Z"
   },
   {
    "duration": 24,
    "start_time": "2024-05-04T09:41:00.599Z"
   },
   {
    "duration": 5,
    "start_time": "2024-05-04T09:41:09.718Z"
   },
   {
    "duration": 3978,
    "start_time": "2024-05-04T09:41:10.602Z"
   },
   {
    "duration": 352,
    "start_time": "2024-05-04T09:41:15.184Z"
   },
   {
    "duration": 8,
    "start_time": "2024-05-06T03:37:57.196Z"
   },
   {
    "duration": 1309,
    "start_time": "2024-05-06T03:38:11.628Z"
   },
   {
    "duration": 2,
    "start_time": "2024-05-06T03:38:12.939Z"
   },
   {
    "duration": 236,
    "start_time": "2024-05-06T03:38:12.943Z"
   },
   {
    "duration": 211,
    "start_time": "2024-05-06T03:38:13.181Z"
   },
   {
    "duration": 211,
    "start_time": "2024-05-06T03:38:13.394Z"
   },
   {
    "duration": 70,
    "start_time": "2024-05-06T03:38:13.606Z"
   },
   {
    "duration": 3,
    "start_time": "2024-05-06T03:38:13.677Z"
   },
   {
    "duration": 791,
    "start_time": "2024-05-06T03:38:13.682Z"
   },
   {
    "duration": 1098,
    "start_time": "2024-05-06T03:38:14.474Z"
   },
   {
    "duration": 5,
    "start_time": "2024-05-06T03:38:15.574Z"
   },
   {
    "duration": 722,
    "start_time": "2024-05-06T03:38:15.580Z"
   },
   {
    "duration": 2,
    "start_time": "2024-05-06T03:38:16.304Z"
   },
   {
    "duration": 103,
    "start_time": "2024-05-06T03:38:16.307Z"
   },
   {
    "duration": 0,
    "start_time": "2024-05-06T03:38:16.411Z"
   },
   {
    "duration": 0,
    "start_time": "2024-05-06T03:38:16.412Z"
   },
   {
    "duration": 0,
    "start_time": "2024-05-06T03:38:16.413Z"
   },
   {
    "duration": 0,
    "start_time": "2024-05-06T03:38:16.414Z"
   },
   {
    "duration": 0,
    "start_time": "2024-05-06T03:38:16.415Z"
   },
   {
    "duration": 0,
    "start_time": "2024-05-06T03:38:16.416Z"
   },
   {
    "duration": 0,
    "start_time": "2024-05-06T03:38:16.416Z"
   },
   {
    "duration": 0,
    "start_time": "2024-05-06T03:38:16.418Z"
   },
   {
    "duration": 3,
    "start_time": "2024-05-06T03:38:35.735Z"
   },
   {
    "duration": 3,
    "start_time": "2024-05-06T03:39:35.454Z"
   },
   {
    "duration": 3,
    "start_time": "2024-05-06T03:39:49.190Z"
   },
   {
    "duration": 1641,
    "start_time": "2024-05-06T06:00:27.162Z"
   },
   {
    "duration": 3,
    "start_time": "2024-05-06T06:00:28.805Z"
   },
   {
    "duration": 292,
    "start_time": "2024-05-06T06:00:28.810Z"
   },
   {
    "duration": 259,
    "start_time": "2024-05-06T06:00:29.104Z"
   },
   {
    "duration": 257,
    "start_time": "2024-05-06T06:00:29.365Z"
   },
   {
    "duration": 80,
    "start_time": "2024-05-06T06:00:29.623Z"
   },
   {
    "duration": 5,
    "start_time": "2024-05-06T06:00:29.704Z"
   },
   {
    "duration": 1074,
    "start_time": "2024-05-06T06:00:29.710Z"
   },
   {
    "duration": 1323,
    "start_time": "2024-05-06T06:00:30.786Z"
   },
   {
    "duration": 5,
    "start_time": "2024-05-06T06:00:32.111Z"
   },
   {
    "duration": 668,
    "start_time": "2024-05-06T06:00:32.118Z"
   },
   {
    "duration": 3,
    "start_time": "2024-05-06T06:00:32.788Z"
   },
   {
    "duration": 8,
    "start_time": "2024-05-06T06:00:32.792Z"
   },
   {
    "duration": 3,
    "start_time": "2024-05-06T06:00:36.657Z"
   },
   {
    "duration": 3,
    "start_time": "2024-05-06T06:00:38.502Z"
   },
   {
    "duration": 217,
    "start_time": "2024-05-06T06:00:40.214Z"
   },
   {
    "duration": 3,
    "start_time": "2024-05-06T06:01:28.097Z"
   },
   {
    "duration": 111,
    "start_time": "2024-05-06T06:02:15.247Z"
   },
   {
    "duration": 18,
    "start_time": "2024-05-06T06:02:48.804Z"
   },
   {
    "duration": 12,
    "start_time": "2024-05-06T06:08:39.245Z"
   },
   {
    "duration": 1428,
    "start_time": "2024-05-06T06:27:04.374Z"
   },
   {
    "duration": 6,
    "start_time": "2024-05-06T06:27:05.804Z"
   },
   {
    "duration": 224,
    "start_time": "2024-05-06T06:27:05.811Z"
   },
   {
    "duration": 171,
    "start_time": "2024-05-06T06:27:06.037Z"
   },
   {
    "duration": 196,
    "start_time": "2024-05-06T06:27:06.211Z"
   },
   {
    "duration": 95,
    "start_time": "2024-05-06T06:27:06.409Z"
   },
   {
    "duration": 5,
    "start_time": "2024-05-06T06:27:06.505Z"
   },
   {
    "duration": 1058,
    "start_time": "2024-05-06T06:27:06.512Z"
   },
   {
    "duration": 1231,
    "start_time": "2024-05-06T06:27:07.572Z"
   },
   {
    "duration": 6,
    "start_time": "2024-05-06T06:27:08.804Z"
   },
   {
    "duration": 673,
    "start_time": "2024-05-06T06:27:08.812Z"
   },
   {
    "duration": 3,
    "start_time": "2024-05-06T06:27:09.487Z"
   },
   {
    "duration": 7,
    "start_time": "2024-05-06T06:27:09.492Z"
   },
   {
    "duration": 5,
    "start_time": "2024-05-06T06:27:09.501Z"
   },
   {
    "duration": 238,
    "start_time": "2024-05-06T06:27:09.508Z"
   },
   {
    "duration": 4,
    "start_time": "2024-05-06T06:27:09.747Z"
   },
   {
    "duration": 29,
    "start_time": "2024-05-06T06:27:09.753Z"
   },
   {
    "duration": 5,
    "start_time": "2024-05-06T06:27:09.784Z"
   },
   {
    "duration": 4211,
    "start_time": "2024-05-06T06:27:09.791Z"
   },
   {
    "duration": 328,
    "start_time": "2024-05-06T06:27:14.003Z"
   },
   {
    "duration": 10,
    "start_time": "2024-05-06T06:27:14.333Z"
   },
   {
    "duration": 1360,
    "start_time": "2024-05-06T07:07:36.723Z"
   },
   {
    "duration": 3,
    "start_time": "2024-05-06T07:07:38.085Z"
   },
   {
    "duration": 209,
    "start_time": "2024-05-06T07:07:38.089Z"
   },
   {
    "duration": 171,
    "start_time": "2024-05-06T07:07:38.300Z"
   },
   {
    "duration": 180,
    "start_time": "2024-05-06T07:07:38.473Z"
   },
   {
    "duration": 92,
    "start_time": "2024-05-06T07:07:38.655Z"
   },
   {
    "duration": 4,
    "start_time": "2024-05-06T07:07:38.749Z"
   },
   {
    "duration": 1062,
    "start_time": "2024-05-06T07:07:38.755Z"
   },
   {
    "duration": 1268,
    "start_time": "2024-05-06T07:07:39.819Z"
   },
   {
    "duration": 5,
    "start_time": "2024-05-06T07:07:41.089Z"
   },
   {
    "duration": 699,
    "start_time": "2024-05-06T07:07:41.095Z"
   },
   {
    "duration": 3,
    "start_time": "2024-05-06T07:07:41.797Z"
   },
   {
    "duration": 37,
    "start_time": "2024-05-06T07:07:41.801Z"
   },
   {
    "duration": 20,
    "start_time": "2024-05-06T07:07:41.841Z"
   },
   {
    "duration": 263,
    "start_time": "2024-05-06T07:07:41.863Z"
   },
   {
    "duration": 3,
    "start_time": "2024-05-06T07:07:42.127Z"
   },
   {
    "duration": 20,
    "start_time": "2024-05-06T07:07:42.132Z"
   },
   {
    "duration": 5,
    "start_time": "2024-05-06T07:07:42.153Z"
   },
   {
    "duration": 4367,
    "start_time": "2024-05-06T07:07:42.181Z"
   },
   {
    "duration": 363,
    "start_time": "2024-05-06T07:07:46.550Z"
   },
   {
    "duration": 10,
    "start_time": "2024-05-06T07:07:46.915Z"
   }
  ],
  "kernelspec": {
   "display_name": "Python 3 (ipykernel)",
   "language": "python",
   "name": "python3"
  },
  "language_info": {
   "codemirror_mode": {
    "name": "ipython",
    "version": 3
   },
   "file_extension": ".py",
   "mimetype": "text/x-python",
   "name": "python",
   "nbconvert_exporter": "python",
   "pygments_lexer": "ipython3",
   "version": "3.9.19"
  },
  "toc": {
   "base_numbering": 1,
   "nav_menu": {},
   "number_sections": true,
   "sideBar": true,
   "skip_h1_title": true,
   "title_cell": "Table of Contents",
   "title_sidebar": "Contents",
   "toc_cell": false,
   "toc_position": {
    "height": "calc(100% - 180px)",
    "left": "10px",
    "top": "150px",
    "width": "310.391px"
   },
   "toc_section_display": true,
   "toc_window_display": true
  }
 },
 "nbformat": 4,
 "nbformat_minor": 4
}
